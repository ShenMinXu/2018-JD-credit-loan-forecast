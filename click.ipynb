{
 "cells": [
  {
   "cell_type": "code",
   "execution_count": 2,
   "metadata": {},
   "outputs": [
    {
     "name": "stderr",
     "output_type": "stream",
     "text": [
      "d:\\python3.5\\lib\\site-packages\\ipykernel_launcher.py:25: SettingWithCopyWarning: \n",
      "A value is trying to be set on a copy of a slice from a DataFrame\n",
      "\n",
      "See the caveats in the documentation: http://pandas.pydata.org/pandas-docs/stable/indexing.html#indexing-view-versus-copy\n",
      "d:\\python3.5\\lib\\site-packages\\ipykernel_launcher.py:30: SettingWithCopyWarning: \n",
      "A value is trying to be set on a copy of a slice from a DataFrame\n",
      "\n",
      "See the caveats in the documentation: http://pandas.pydata.org/pandas-docs/stable/indexing.html#indexing-view-versus-copy\n"
     ]
    }
   ],
   "source": [
    "import pandas as pd\n",
    "import numpy as np\n",
    "import time\n",
    "from datetime import date\n",
    "from sklearn.ensemble import RandomForestClassifier\n",
    "from sklearn import preprocessing\n",
    "\n",
    "t_click = pd.read_csv('D:\\研究生\\Chaos\\JD\\信贷需求/t_click.csv')\n",
    "t_click = t_click.replace(np.nan,0)\n",
    "t_click['month']= t_click.click_time.apply(lambda x: x.split('-')[1])\n",
    "t5 = t_click[['uid','pid','param','click_time','month']]\n",
    "t5.pid = t5.pid.astype('str')\n",
    "t5.param = t5.param.astype('str')\n",
    "def get_pidparam(df):\n",
    "    pid = df['pid']\n",
    "    param = df['param']\n",
    "    result = str(pid)+'-'+str(param)\n",
    "    return result\n",
    "t5['pid-param']=t5.pid+'-'+t5.param\n",
    "t6  =t5[['uid','month','pid-param']]\n",
    "pid_param = pd.get_dummies(t6[\"pid-param\"], prefix=\"pid-param\")\n",
    "pid_param['uid']=t6.uid\n",
    "pid_param['month']=t6.month\n",
    "pid_param10 =pid_param[(pid_param.month==10)]\n",
    "pid_param10.drop('month',axis=1, inplace=True)\n",
    "pid_param10 = pid_param10.groupby('uid').sum().reset_index()\n",
    "\n",
    "\n",
    "pid_param11 =pid_param[(pid_param.month==11)]\n",
    "pid_param11.drop('month',axis=1, inplace=True)\n",
    "pid_param11 = pid_param10.groupby('uid').sum().reset_index()"
   ]
  },
  {
   "cell_type": "code",
   "execution_count": null,
   "metadata": {},
   "outputs": [],
   "source": [
    "pid_param10.to_csv('D:/研究生/Chaos/JD/信贷需求/feature11/pid_param10.csv',index=None)\n",
    "pid_param11.to_csv('D:/研究生/Chaos/JD/信贷需求/feature12/pid_param11.csv',index=None)"
   ]
  }
 ],
 "metadata": {
  "kernelspec": {
   "display_name": "Python 3",
   "language": "python",
   "name": "python3"
  },
  "language_info": {
   "codemirror_mode": {
    "name": "ipython",
    "version": 3
   },
   "file_extension": ".py",
   "mimetype": "text/x-python",
   "name": "python",
   "nbconvert_exporter": "python",
   "pygments_lexer": "ipython3",
   "version": "3.5.4"
  }
 },
 "nbformat": 4,
 "nbformat_minor": 2
}
