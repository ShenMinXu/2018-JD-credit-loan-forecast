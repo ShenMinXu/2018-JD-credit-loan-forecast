{
 "cells": [
  {
   "cell_type": "code",
   "execution_count": 15,
   "metadata": {},
   "outputs": [],
   "source": [
    "import pandas as pd\n",
    "import numpy as np\n",
    "import time\n",
    "from datetime import date\n",
    "from sklearn.ensemble import RandomForestClassifier\n",
    "from sklearn import preprocessing\n",
    "t_order = pd.read_csv('D:\\研究生\\Chaos\\JD\\信贷需求/t_order.csv')\n",
    "t_user  =pd.read_csv('D:\\研究生\\Chaos\\JD\\信贷需求/t_user.csv')\n",
    "\n"
   ]
  },
  {
   "cell_type": "code",
   "execution_count": 16,
   "metadata": {
    "scrolled": true
   },
   "outputs": [
    {
     "name": "stdout",
     "output_type": "stream",
     "text": [
      "     uid    buy_time     price  qty  cate_id  discount\n",
      "0  45370  2016-11-23  3.995009    1       22       0.0\n",
      "1  66975  2016-11-23  3.269410    1       26       0.0\n",
      "2  75358  2016-11-23  2.255235    1       14       0.0\n",
      "3  40597  2016-11-23  1.635284    1       20       0.0\n",
      "4  83886  2016-11-23  1.920573    2       22       0.0\n"
     ]
    }
   ],
   "source": [
    "t1 = t_order\n",
    "print(t1.head(5))"
   ]
  },
  {
   "cell_type": "code",
   "execution_count": 17,
   "metadata": {},
   "outputs": [
    {
     "name": "stdout",
     "output_type": "stream",
     "text": [
      "     uid    buy_time   price  qty  cate_id  discount  consume  price_sum\n",
      "0  45370  2016-11-23  619.00    1       22       0.0   619.00     619.00\n",
      "1  66975  2016-11-23  191.85    1       26       0.0   191.85     191.85\n",
      "2  75358  2016-11-23   36.70    1       14       0.0    36.70      36.70\n",
      "3  40597  2016-11-23   12.90    1       20       0.0    12.90      12.90\n",
      "4  83886  2016-11-23   21.00    2       22       0.0    42.00      42.00\n"
     ]
    }
   ],
   "source": [
    "def original(x):\n",
    "    result = 5**(x)-1\n",
    "    return result\n",
    "             \n",
    "t1['price'] = t1.price.apply(original)\n",
    "t1['discount'] =t1.discount.apply(original) \n",
    "t1['consume'] = t1.price*t1.qty-t1.discount\n",
    "t1['price_sum'] = t1.price*t1.qty\n",
    "print(t1.head(5))"
   ]
  },
  {
   "cell_type": "code",
   "execution_count": 23,
   "metadata": {},
   "outputs": [],
   "source": [
    "import time\n",
    "def get_month(x):\n",
    "    timeArray = time.strptime(x, \"%Y-%m-%d\")\n",
    "    return timeArray.tm_mon\n",
    "t1['buy_month'] = t1.buy_time.apply(get_month)"
   ]
  },
  {
   "cell_type": "code",
   "execution_count": 20,
   "metadata": {},
   "outputs": [
    {
     "name": "stdout",
     "output_type": "stream",
     "text": [
      "     uid    buy_time   price  qty  cate_id  discount  consume  price_sum  \\\n",
      "0  45370  2016-11-23  619.00    1       22       0.0   619.00     619.00   \n",
      "1  66975  2016-11-23  191.85    1       26       0.0   191.85     191.85   \n",
      "2  75358  2016-11-23   36.70    1       14       0.0    36.70      36.70   \n",
      "3  40597  2016-11-23   12.90    1       20       0.0    12.90      12.90   \n",
      "4  83886  2016-11-23   21.00    2       22       0.0    42.00      42.00   \n",
      "\n",
      "  buy_month  \n",
      "0        11  \n",
      "1        11  \n",
      "2        11  \n",
      "3        11  \n",
      "4        11  \n"
     ]
    }
   ],
   "source": [
    "print(t1.head(5))"
   ]
  },
  {
   "cell_type": "code",
   "execution_count": 43,
   "metadata": {},
   "outputs": [],
   "source": [
    "#consume_mean指平均每次下单的消费额，4month_mean指4个月份平均每月的消费额，consume_8指8月总的消费额\n",
    "t2 = t1[['uid','consume','buy_month']]\n",
    "t2 = t2[(t2.consume>0)]\n",
    "# t_all_mean = t2[['uid','consume']]\n",
    "# t_all_mean = t2.groupby('uid')['consume'].mean().reset_index()\n",
    "t2 = t2.groupby(['uid','buy_month']).sum().reset_index()\n",
    "# t_4month_mean =  t2[['uid','consume']]\n",
    "# t_4month_mean = t2.groupby('uid').sum().reset_index()\n",
    "# t_4month_mean['4month_mean'] = t_4month_mean.consume/4\n",
    "t_8 = t2[t2.buy_month==8]\n",
    "t_9 = t2[t2.buy_month==9]\n",
    "t_10 = t2[t2.buy_month==10]\n",
    "t_11 = t2[t2.buy_month==11]\n",
    "# t_4month_mean = t_4month_mean[['uid','4month_mean']]\n",
    "# t_all_mean.columns=['uid','consume_mean']\n",
    "t_8.columns=['uid','buy_month','consume_8']\n",
    "t_9.columns=['uid','buy_month','consume_9']\n",
    "t_10.columns=['uid','buy_month','consume_10']\n",
    "t_11.columns=['uid','buy_month','consume_11']\n"
   ]
  },
  {
   "cell_type": "code",
   "execution_count": 44,
   "metadata": {},
   "outputs": [],
   "source": [
    "consume = t_user[['uid']].drop_duplicates(['uid']).reset_index()\n",
    "# consume = pd.merge(consume,t_all_mean, on=['uid'], how='left')\n",
    "# consume = pd.merge(consume,t_4month_mean, on=['uid'], how='left')\n",
    "consume = pd.merge(consume,t_8, on=['uid'], how='left')\n",
    "consume = pd.merge(consume,t_9, on=['uid'], how='left')\n",
    "consume = pd.merge(consume,t_10, on=['uid'], how='left')\n",
    "consume = pd.merge(consume,t_11, on=['uid'], how='left')\n",
    "consume = consume[['uid','consume_8','consume_9','consume_10','consume_11']]"
   ]
  },
  {
   "cell_type": "code",
   "execution_count": 45,
   "metadata": {},
   "outputs": [],
   "source": [
    "#price\n",
    "t2 = t1[['uid','price_sum','buy_month']]\n",
    "# t_all_mean = t2[['uid','price_sum']]\n",
    "# t_all_mean = t2.groupby('uid')['price_sum'].mean().reset_index()\n",
    "t2 = t2.groupby(['uid','buy_month']).sum().reset_index()\n",
    "# t_4month_mean =  t2[['uid','price_sum']]\n",
    "# t_4month_mean = t2.groupby('uid').sum().reset_index()\n",
    "# t_4month_mean['price_sum_4month_mean'] = t_4month_mean.price_sum/4\n",
    "t_8 = t2[t2.buy_month==8]\n",
    "t_9 = t2[t2.buy_month==9]\n",
    "t_10 = t2[t2.buy_month==10]\n",
    "t_11 = t2[t2.buy_month==11]\n",
    "# t_4month_mean = t_4month_mean[['uid','price_sum_4month_mean']]\n",
    "# t_all_mean.columns=['uid','price_sum_all_mean']\n",
    "t_8.columns=['uid','buy_month','price_sum_8']\n",
    "t_9.columns=['uid','buy_month','price_sum_9']\n",
    "t_10.columns=['uid','buy_month','price_sum_10']\n",
    "t_11.columns=['uid','buy_month','price_sum_11']\n",
    "\n",
    "# consume2 = pd.merge(consume,t_all_mean, on=['uid'], how='left')\n",
    "# consume2 = pd.merge(consume2,t_4month_mean, on=['uid'], how='left')\n",
    "consume2 = pd.merge(consume2,t_8, on=['uid'], how='left')\n",
    "consume2 = pd.merge(consume2,t_9, on=['uid'], how='left')\n",
    "consume2 = pd.merge(consume2,t_10, on=['uid'], how='left')\n",
    "consume2 = pd.merge(consume2,t_11, on=['uid'], how='left')\n",
    "\n",
    "consume2 = consume2.fillna(0)\n",
    "consume_11 = consume2[['uid','consume_8','consume_9','consume_10','price_sum_8','price_sum_9','price_sum_10']]\n",
    "consume_11.columns = ['uid','consume_3','consume_2','consume_1','price_sum_3','price_sum_2','price_sum_1']\n",
    "\n",
    "consume_12 = consume2[['uid','consume_9','consume_10','consume_11','price_sum_9','price_sum_10','price_sum_11']]\n",
    "consume_12.columns = ['uid','consume_3','consume_2','consume_1','price_sum_3','price_sum_2','price_sum_1']\n",
    "\n",
    "consume_11.to_csv('D:/研究生/Chaos/JD/信贷需求/feature11/consume11.csv',index=None) \n",
    "consume_12.to_csv('D:/研究生/Chaos/JD/信贷需求/feature12/consume12.csv',index=None) "
   ]
  },
  {
   "cell_type": "code",
   "execution_count": null,
   "metadata": {},
   "outputs": [],
   "source": []
  },
  {
   "cell_type": "code",
   "execution_count": null,
   "metadata": {},
   "outputs": [],
   "source": []
  },
  {
   "cell_type": "code",
   "execution_count": null,
   "metadata": {},
   "outputs": [],
   "source": []
  },
  {
   "cell_type": "code",
   "execution_count": null,
   "metadata": {},
   "outputs": [],
   "source": []
  }
 ],
 "metadata": {
  "kernelspec": {
   "display_name": "Python 3",
   "language": "python",
   "name": "python3"
  },
  "language_info": {
   "codemirror_mode": {
    "name": "ipython",
    "version": 3
   },
   "file_extension": ".py",
   "mimetype": "text/x-python",
   "name": "python",
   "nbconvert_exporter": "python",
   "pygments_lexer": "ipython3",
   "version": "3.5.4"
  }
 },
 "nbformat": 4,
 "nbformat_minor": 2
}
