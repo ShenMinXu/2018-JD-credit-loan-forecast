{
 "cells": [
  {
   "cell_type": "code",
   "execution_count": 8,
   "metadata": {},
   "outputs": [],
   "source": [
    "import pandas as pd\n",
    "import numpy as np\n",
    "import time\n",
    "from datetime import date\n",
    "from sklearn.ensemble import RandomForestClassifier\n",
    "from sklearn import preprocessing\n",
    "\n",
    "# t_click = pd.read_csv('D:\\研究生\\Chaos\\JD\\信贷需求/t_click.csv')\n",
    "# t_loan = pd.read_csv('D:\\研究生\\Chaos\\JD\\信贷需求/t_loan.csv')\n",
    "# t_loan_sum = pd.read_csv('D:\\研究生\\Chaos\\JD\\信贷需求/t_loan_sum.csv')\n",
    "# t_order = pd.read_csv('D:\\研究生\\Chaos\\JD\\信贷需求/t_order.csv')\n",
    "t_user  =pd.read_csv('D:\\研究生\\Chaos\\JD\\信贷需求/t_user.csv')\n",
    "t_loan = pd.read_csv('D:\\研究生\\Chaos\\JD\\信贷需求/t_loan.csv')\n"
   ]
  },
  {
   "cell_type": "code",
   "execution_count": 9,
   "metadata": {},
   "outputs": [
    {
     "name": "stdout",
     "output_type": "stream",
     "text": [
      "     uid            loan_time  loan_amount  plannum  origin_loan_amount\n",
      "0  12135  2016-08-03 00:05:26     3.862595        1          500.000000\n",
      "1  41403  2016-08-03 00:13:25     5.584137        3         8000.000001\n",
      "2  74458  2016-08-03 00:13:58     4.723017        1         2000.000000\n",
      "3  12959  2016-08-03 00:19:33     3.862595        1          500.000000\n",
      "4  89641  2016-08-03 00:23:13     4.292651        1         1000.000000\n"
     ]
    }
   ],
   "source": [
    "def original_data(x):\n",
    "    result = 5**x-1\n",
    "    return result\n",
    "t_loan['origin_loan_amount'] = t_loan.loan_amount.apply(original_data)\n",
    "print(t_loan.head(5))\n"
   ]
  },
  {
   "cell_type": "code",
   "execution_count": 10,
   "metadata": {},
   "outputs": [
    {
     "name": "stdout",
     "output_type": "stream",
     "text": [
      "     uid            loan_time  loan_amount  plannum  origin_loan_amount  \\\n",
      "0  12135  2016-08-03 00:05:26     3.862595        1          500.000000   \n",
      "1  41403  2016-08-03 00:13:25     5.584137        3         8000.000001   \n",
      "2  74458  2016-08-03 00:13:58     4.723017        1         2000.000000   \n",
      "3  12959  2016-08-03 00:19:33     3.862595        1          500.000000   \n",
      "4  89641  2016-08-03 00:23:13     4.292651        1         1000.000000   \n",
      "\n",
      "       date  \n",
      "0  20160803  \n",
      "1  20160803  \n",
      "2  20160803  \n",
      "3  20160803  \n",
      "4  20160803  \n"
     ]
    }
   ],
   "source": [
    "def timetime(x):\n",
    "    time1 = x.split(' ')[0].replace('-','')\n",
    "    return time1\n",
    "t_loan['date'] = t_loan.loan_time.apply(timetime)\n",
    "t_loan[['date']] = t_loan[['date']].astype(int)\n",
    "print(t_loan.head(5))"
   ]
  },
  {
   "cell_type": "code",
   "execution_count": 11,
   "metadata": {},
   "outputs": [],
   "source": [
    "t_loan_8 = t_loan[(t_loan.date>=20160801)&(t_loan.date<=20160831)]\n",
    "t_loan_9 = t_loan[(t_loan.date>=20160901)&(t_loan.date<=20160931)]\n",
    "t_loan_10 = t_loan[(t_loan.date>=20161001)&(t_loan.date<=20161031)]\n",
    "t_loan_11 = t_loan[(t_loan.date>=20161101)&(t_loan.date<=20161131)]\n",
    "t_loan_8  = t_loan_8[['uid','origin_loan_amount']]\n",
    "t_loan_9  = t_loan_9[['uid','origin_loan_amount']]\n",
    "t_loan_10  = t_loan_10[['uid','origin_loan_amount']]\n",
    "t_loan_11  = t_loan_11[['uid','origin_loan_amount']]\n",
    "\n",
    "#loan_by_month_sum\n",
    "t_loan_8_sum = t_loan_8.groupby('uid').agg('sum').reset_index()\n",
    "t_loan_9_sum = t_loan_9.groupby('uid').agg('sum').reset_index()\n",
    "t_loan_10_sum = t_loan_10.groupby('uid').agg('sum').reset_index()\n",
    "t_loan_11_sum = t_loan_11.groupby('uid').agg('sum').reset_index()\n",
    "loan_by_month = t_user[['uid']].drop_duplicates(['uid']).reset_index()\n",
    "t_loan_8_sum.columns=['uid','loan_8_sum']\n",
    "t_loan_9_sum.columns=['uid','loan_9_sum']\n",
    "t_loan_10_sum.columns=['uid','loan_10_sum']\n",
    "t_loan_11_sum.columns=['uid','loan_11_sum']\n",
    "loan_by_month = pd.merge(loan_by_month,t_loan_8_sum, on=['uid'], how='left')\n",
    "loan_by_month = pd.merge(loan_by_month,t_loan_9_sum, on=['uid'], how='left')\n",
    "loan_by_month = pd.merge(loan_by_month,t_loan_10_sum, on=['uid'], how='left')\n",
    "loan_by_month = pd.merge(loan_by_month,t_loan_11_sum, on=['uid'], how='left')\n",
    "loan_by_month = loan_by_month.replace(np.nan,0)\n",
    "loan_by_month.to_csv('D:/研究生/Chaos/JD/信贷需求/feature/loan_by_month_sum.csv',index=None) \n",
    "\n",
    "#loan_by_month_mean\n",
    "t_loan_8_mean = t_loan_8.groupby('uid').mean().reset_index()\n",
    "t_loan_9_mean = t_loan_9.groupby('uid').mean().reset_index()\n",
    "t_loan_10_mean = t_loan_10.groupby('uid').mean().reset_index()\n",
    "t_loan_11_mean = t_loan_11.groupby('uid').mean().reset_index()\n",
    "loan_by_month = t_user[['uid']].drop_duplicates(['uid']).reset_index()\n",
    "t_loan_8_mean.columns=['uid','loan_8_mean']\n",
    "t_loan_9_mean.columns=['uid','loan_9_mean']\n",
    "t_loan_10_mean.columns=['uid','loan_10_mean']\n",
    "t_loan_11_mean.columns=['uid','loan_11_mean']\n",
    "loan_by_month = pd.merge(loan_by_month,t_loan_8_mean, on=['uid'], how='left')\n",
    "loan_by_month = pd.merge(loan_by_month,t_loan_9_mean, on=['uid'], how='left')\n",
    "loan_by_month = pd.merge(loan_by_month,t_loan_10_mean, on=['uid'], how='left')\n",
    "loan_by_month = pd.merge(loan_by_month,t_loan_11_mean, on=['uid'], how='left')\n",
    "loan_by_month = loan_by_month.replace(np.nan,0)\n",
    "loan_by_month.to_csv('D:/研究生/Chaos/JD/信贷需求/feature/loan_by_month_mean.csv',index=None) \n",
    "\n",
    "#loan_by_month-frequency\n",
    "t_loan_8_frequency = t_loan_8.groupby('uid').count().reset_index()\n",
    "t_loan_9_frequency = t_loan_9.groupby('uid').count().reset_index()\n",
    "t_loan_10_frequency = t_loan_10.groupby('uid').count().reset_index()\n",
    "t_loan_11_frequency = t_loan_11.groupby('uid').count().reset_index()\n",
    "loan_by_month = t_user[['uid']].drop_duplicates(['uid']).reset_index()\n",
    "t_loan_8_frequency.columns=['uid','loan_8_frequency']\n",
    "t_loan_9_frequency.columns=['uid','loan_9_frequency']\n",
    "t_loan_10_frequency.columns=['uid','loan_10_frequency']\n",
    "t_loan_11_frequency.columns=['uid','loan_11_frequency']\n",
    "loan_by_month = pd.merge(loan_by_month,t_loan_8_frequency, on=['uid'], how='left')\n",
    "loan_by_month = pd.merge(loan_by_month,t_loan_9_frequency, on=['uid'], how='left')\n",
    "loan_by_month = pd.merge(loan_by_month,t_loan_10_frequency, on=['uid'], how='left')\n",
    "loan_by_month = pd.merge(loan_by_month,t_loan_11_frequency, on=['uid'], how='left')\n",
    "loan_by_month = loan_by_month.replace(np.nan,0)\n",
    "loan_by_month.to_csv('D:/研究生/Chaos/JD/信贷需求/feature/loan_by_month_frequency.csv',index=None) "
   ]
  },
  {
   "cell_type": "code",
   "execution_count": 7,
   "metadata": {},
   "outputs": [
    {
     "name": "stderr",
     "output_type": "stream",
     "text": [
      "d:\\python3.5\\lib\\site-packages\\ipykernel_launcher.py:4: SettingWithCopyWarning: \n",
      "A value is trying to be set on a copy of a slice from a DataFrame.\n",
      "Try using .loc[row_indexer,col_indexer] = value instead\n",
      "\n",
      "See the caveats in the documentation: http://pandas.pydata.org/pandas-docs/stable/indexing.html#indexing-view-versus-copy\n",
      "  after removing the cwd from sys.path.\n",
      "d:\\python3.5\\lib\\site-packages\\ipykernel_launcher.py:5: SettingWithCopyWarning: \n",
      "A value is trying to be set on a copy of a slice from a DataFrame.\n",
      "Try using .loc[row_indexer,col_indexer] = value instead\n",
      "\n",
      "See the caveats in the documentation: http://pandas.pydata.org/pandas-docs/stable/indexing.html#indexing-view-versus-copy\n",
      "  \"\"\"\n",
      "d:\\python3.5\\lib\\site-packages\\ipykernel_launcher.py:6: SettingWithCopyWarning: \n",
      "A value is trying to be set on a copy of a slice from a DataFrame.\n",
      "Try using .loc[row_indexer,col_indexer] = value instead\n",
      "\n",
      "See the caveats in the documentation: http://pandas.pydata.org/pandas-docs/stable/indexing.html#indexing-view-versus-copy\n",
      "  \n",
      "d:\\python3.5\\lib\\site-packages\\ipykernel_launcher.py:7: SettingWithCopyWarning: \n",
      "A value is trying to be set on a copy of a slice from a DataFrame.\n",
      "Try using .loc[row_indexer,col_indexer] = value instead\n",
      "\n",
      "See the caveats in the documentation: http://pandas.pydata.org/pandas-docs/stable/indexing.html#indexing-view-versus-copy\n",
      "  import sys\n",
      "d:\\python3.5\\lib\\site-packages\\ipykernel_launcher.py:11: SettingWithCopyWarning: \n",
      "A value is trying to be set on a copy of a slice from a DataFrame.\n",
      "Try using .loc[row_indexer,col_indexer] = value instead\n",
      "\n",
      "See the caveats in the documentation: http://pandas.pydata.org/pandas-docs/stable/indexing.html#indexing-view-versus-copy\n",
      "  # This is added back by InteractiveShellApp.init_path()\n",
      "d:\\python3.5\\lib\\site-packages\\ipykernel_launcher.py:12: SettingWithCopyWarning: \n",
      "A value is trying to be set on a copy of a slice from a DataFrame.\n",
      "Try using .loc[row_indexer,col_indexer] = value instead\n",
      "\n",
      "See the caveats in the documentation: http://pandas.pydata.org/pandas-docs/stable/indexing.html#indexing-view-versus-copy\n",
      "  if sys.path[0] == '':\n",
      "d:\\python3.5\\lib\\site-packages\\ipykernel_launcher.py:13: SettingWithCopyWarning: \n",
      "A value is trying to be set on a copy of a slice from a DataFrame.\n",
      "Try using .loc[row_indexer,col_indexer] = value instead\n",
      "\n",
      "See the caveats in the documentation: http://pandas.pydata.org/pandas-docs/stable/indexing.html#indexing-view-versus-copy\n",
      "  del sys.path[0]\n",
      "d:\\python3.5\\lib\\site-packages\\ipykernel_launcher.py:14: SettingWithCopyWarning: \n",
      "A value is trying to be set on a copy of a slice from a DataFrame.\n",
      "Try using .loc[row_indexer,col_indexer] = value instead\n",
      "\n",
      "See the caveats in the documentation: http://pandas.pydata.org/pandas-docs/stable/indexing.html#indexing-view-versus-copy\n",
      "  \n"
     ]
    }
   ],
   "source": [
    "#上个月，上上个月，上上上个月是否有贷款,过去三个月与几个月贷款的，过去三个月的贷款模式（连续三个月贷款，贷一个月，停一个月。。。）\n",
    "if_loan = pd.read_csv('D:/研究生/Chaos/JD/信贷需求/feature/loan_by_month_sum.csv')\n",
    "if_loan_11 = if_loan[['uid']]\n",
    "if_loan_11['ahead_1_if'] = if_loan.loan_10_sum.apply(lambda x:1 if x>0 else 0)\n",
    "if_loan_11['ahead_2_if'] = if_loan.loan_9_sum.apply(lambda x:1 if x>0 else 0)\n",
    "if_loan_11['ahead_3_if'] = if_loan.loan_8_sum.apply(lambda x:1 if x>0 else 0)\n",
    "if_loan_11['ahead_sum_if'] = if_loan_11.ahead_1_if+if_loan_11.ahead_2_if+if_loan_11.ahead_3_if\n",
    "if_loan_11.to_csv('D:/研究生/Chaos/JD/信贷需求/feature11/if_loan11.csv',index=None) \n",
    "\n",
    "if_loan_12 = if_loan[['uid']]\n",
    "if_loan_12['ahead_1_if'] = if_loan.loan_11_sum.apply(lambda x:1 if x>0 else 0)\n",
    "if_loan_12['ahead_2_if'] = if_loan.loan_10_sum.apply(lambda x:1 if x>0 else 0)\n",
    "if_loan_12['ahead_3_if'] = if_loan.loan_9_sum.apply(lambda x:1 if x>0 else 0)\n",
    "if_loan_12['ahead_sum_if'] = if_loan_12.ahead_1_if+if_loan_11.ahead_2_if+if_loan_11.ahead_3_if\n",
    "if_loan_12.to_csv('D:/研究生/Chaos/JD/信贷需求/feature12/if_loan12.csv',index=None) \n",
    "\n",
    "\n"
   ]
  },
  {
   "cell_type": "code",
   "execution_count": null,
   "metadata": {},
   "outputs": [],
   "source": []
  },
  {
   "cell_type": "code",
   "execution_count": null,
   "metadata": {},
   "outputs": [],
   "source": []
  },
  {
   "cell_type": "code",
   "execution_count": null,
   "metadata": {},
   "outputs": [],
   "source": []
  }
 ],
 "metadata": {
  "kernelspec": {
   "display_name": "Python 3",
   "language": "python",
   "name": "python3"
  },
  "language_info": {
   "codemirror_mode": {
    "name": "ipython",
    "version": 3
   },
   "file_extension": ".py",
   "mimetype": "text/x-python",
   "name": "python",
   "nbconvert_exporter": "python",
   "pygments_lexer": "ipython3",
   "version": "3.5.4"
  }
 },
 "nbformat": 4,
 "nbformat_minor": 2
}
