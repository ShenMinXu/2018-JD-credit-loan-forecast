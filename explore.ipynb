{
 "cells": [
  {
   "cell_type": "code",
   "execution_count": 15,
   "metadata": {},
   "outputs": [],
   "source": [
    "import pandas as pd\n",
    "import numpy as np\n",
    "from datetime import date\n",
    "from sklearn.ensemble import RandomForestClassifier\n",
    "from sklearn import preprocessing\n",
    "from sklearn.model_selection import train_test_split\n",
    "import math\n",
    "\n",
    "\n",
    "# visualization\n",
    "import seaborn as sns\n",
    "import matplotlib.pyplot as plt\n",
    "%matplotlib inline\n",
    "\n",
    "\n"
   ]
  },
  {
   "cell_type": "code",
   "execution_count": 1,
   "metadata": {},
   "outputs": [
    {
     "ename": "NameError",
     "evalue": "name 'pd' is not defined",
     "output_type": "error",
     "traceback": [
      "\u001b[1;31m---------------------------------------------------------------------------\u001b[0m",
      "\u001b[1;31mNameError\u001b[0m                                 Traceback (most recent call last)",
      "\u001b[1;32m<ipython-input-1-54428b9b0d3c>\u001b[0m in \u001b[0;36m<module>\u001b[1;34m()\u001b[0m\n\u001b[1;32m----> 1\u001b[1;33m \u001b[0mt_click\u001b[0m \u001b[1;33m=\u001b[0m \u001b[0mpd\u001b[0m\u001b[1;33m.\u001b[0m\u001b[0mmerge\u001b[0m\u001b[1;33m(\u001b[0m\u001b[0mt_click\u001b[0m\u001b[1;33m,\u001b[0m\u001b[0mt_loan_sum\u001b[0m\u001b[1;33m,\u001b[0m\u001b[0mon\u001b[0m\u001b[1;33m=\u001b[0m\u001b[1;33m[\u001b[0m\u001b[1;34m'uid'\u001b[0m\u001b[1;33m]\u001b[0m\u001b[1;33m,\u001b[0m\u001b[0mhow\u001b[0m\u001b[1;33m=\u001b[0m\u001b[1;34m'left'\u001b[0m\u001b[1;33m)\u001b[0m\u001b[1;33m\u001b[0m\u001b[0m\n\u001b[0m\u001b[0;32m      2\u001b[0m \u001b[0mt_click\u001b[0m \u001b[1;33m=\u001b[0m \u001b[0mt_click\u001b[0m\u001b[1;33m.\u001b[0m\u001b[0mreplace\u001b[0m\u001b[1;33m(\u001b[0m\u001b[0mnp\u001b[0m\u001b[1;33m.\u001b[0m\u001b[0mnan\u001b[0m\u001b[1;33m,\u001b[0m\u001b[1;36m0\u001b[0m\u001b[1;33m)\u001b[0m\u001b[1;33m\u001b[0m\u001b[0m\n\u001b[0;32m      3\u001b[0m \u001b[1;33m\u001b[0m\u001b[0m\n",
      "\u001b[1;31mNameError\u001b[0m: name 'pd' is not defined"
     ]
    }
   ],
   "source": [
    "#探索点击与贷款\n",
    "t_click = pd.read_csv('D:\\研究生\\Chaos\\JD\\信贷需求/t_click.csv')\n",
    "t_loan_sum = pd.read_csv('D:\\研究生\\Chaos\\JD\\信贷需求/t_loan_sum.csv')\n",
    "t_click = pd.merge(t_click,t_loan_sum,on=['uid'],how='left')\n",
    "t_click = t_click.replace(np.nan,0)\n",
    "t1=t_click[['pid', 'loan_sum']].groupby(['pid'], as_index=False).mean().sort_values(by='loan_sum', ascending=False)\n",
    "print(t1)\n",
    "t2=t_click[['param', 'loan_sum']].groupby(['param'], as_index=False).mean().sort_values(by='loan_sum', ascending=False)\n",
    "print(t2)\n",
    "t3=t_click[['param','pid','loan_sum']].groupby(['pid','param'], as_index=False).mean().sort_values(by='loan_sum', ascending=False)\n",
    "print(t3)\n",
    "\n"
   ]
  },
  {
   "cell_type": "code",
   "execution_count": 5,
   "metadata": {
    "scrolled": false
   },
   "outputs": [
    {
     "name": "stdout",
     "output_type": "stream",
     "text": [
      "   sex  loan_11_sum\n",
      "0    1  2974.203176\n",
      "1    2  2681.299650\n"
     ]
    }
   ],
   "source": [
    "#11月贷款与性别\n",
    "loan_by_month = pd.read_csv('D:/研究生/Chaos/JD/信贷需求/feature/loan_by_month_sum.csv')\n",
    "user  =pd.read_csv('D:\\研究生\\Chaos\\JD\\信贷需求/t_user.csv')\n",
    "loan_11 = loan_by_month[['uid','loan_11_sum']]\n",
    "loan_11 =pd.merge(loan_11,user,on=['uid'],how='left')\n",
    "loan_sex=loan_11[['sex','loan_11_sum']].groupby(['sex'], as_index=False).mean().sort_values(by='loan_11_sum', ascending=False)\n",
    "print(loan_sex)\n",
    "\n"
   ]
  },
  {
   "cell_type": "code",
   "execution_count": 35,
   "metadata": {},
   "outputs": [
    {
     "name": "stdout",
     "output_type": "stream",
     "text": [
      "             AgeBand  sex   loan_11_sum\n",
      "0    (19.97, 24.286]    1   4012.000000\n",
      "1    (19.97, 24.286]    2  10700.000000\n",
      "2   (24.286, 28.571]    1   8375.692499\n",
      "3   (24.286, 28.571]    2   8490.792839\n",
      "4   (28.571, 32.857]    1  12723.876637\n",
      "5   (28.571, 32.857]    2  12087.739464\n",
      "6   (32.857, 37.143]    1  15986.795854\n",
      "7   (32.857, 37.143]    2  14926.093089\n",
      "8   (37.143, 41.429]    1  17886.169714\n",
      "9   (37.143, 41.429]    2  16295.597484\n",
      "10  (41.429, 45.714]    1  19356.835443\n",
      "11  (41.429, 45.714]    2  12038.383838\n",
      "12    (45.714, 50.0]    1  18300.000000\n",
      "13    (45.714, 50.0]    2  17272.727273\n"
     ]
    }
   ],
   "source": [
    "#11月贷款与年龄\n",
    "loan_by_month = pd.read_csv('D:/研究生/Chaos/JD/信贷需求/feature/loan_by_month_sum.csv')\n",
    "user  =pd.read_csv('D:\\研究生\\Chaos\\JD\\信贷需求/t_user.csv')\n",
    "loan_11 = loan_by_month[['uid','loan_11_sum']]\n",
    "loan_11 =pd.merge(loan_11,user,on=['uid'],how='left')\n",
    "loan_11['if_loan_11']= loan_11.loan_11_sum.apply(lambda x:1 if x>0 else 0)\n",
    "loan_11['AgeBand'] = pd.cut(loan_11['age'], 7)\n",
    "loan_11 = loan_11[(loan_11.loan_11_sum>0)]\n",
    "age_loan=loan_11[['AgeBand', 'loan_11_sum','sex']].groupby(['AgeBand','sex'], as_index=False).mean().sort_values(by='AgeBand', ascending=True)\n",
    "print(age_loan)\n"
   ]
  },
  {
   "cell_type": "code",
   "execution_count": null,
   "metadata": {},
   "outputs": [],
   "source": [
    "#11贷款"
   ]
  },
  {
   "cell_type": "code",
   "execution_count": null,
   "metadata": {
    "scrolled": false
   },
   "outputs": [],
   "source": []
  },
  {
   "cell_type": "code",
   "execution_count": null,
   "metadata": {},
   "outputs": [],
   "source": []
  },
  {
   "cell_type": "code",
   "execution_count": null,
   "metadata": {},
   "outputs": [],
   "source": []
  },
  {
   "cell_type": "code",
   "execution_count": 10,
   "metadata": {},
   "outputs": [],
   "source": []
  },
  {
   "cell_type": "code",
   "execution_count": 13,
   "metadata": {
    "collapsed": true
   },
   "outputs": [
    {
     "name": "stderr",
     "output_type": "stream",
     "text": [
      "d:\\python3.5\\lib\\site-packages\\ipykernel_launcher.py:2: SettingWithCopyWarning: \n",
      "A value is trying to be set on a copy of a slice from a DataFrame\n",
      "\n",
      "See the caveats in the documentation: http://pandas.pydata.org/pandas-docs/stable/indexing.html#indexing-view-versus-copy\n",
      "  \n",
      "d:\\python3.5\\lib\\site-packages\\ipykernel_launcher.py:6: SettingWithCopyWarning: \n",
      "A value is trying to be set on a copy of a slice from a DataFrame\n",
      "\n",
      "See the caveats in the documentation: http://pandas.pydata.org/pandas-docs/stable/indexing.html#indexing-view-versus-copy\n",
      "  \n"
     ]
    }
   ],
   "source": [
    "\n",
    "\n"
   ]
  },
  {
   "cell_type": "code",
   "execution_count": 15,
   "metadata": {},
   "outputs": [],
   "source": []
  },
  {
   "cell_type": "code",
   "execution_count": null,
   "metadata": {},
   "outputs": [],
   "source": []
  }
 ],
 "metadata": {
  "kernelspec": {
   "display_name": "Python 3",
   "language": "python",
   "name": "python3"
  },
  "language_info": {
   "codemirror_mode": {
    "name": "ipython",
    "version": 3
   },
   "file_extension": ".py",
   "mimetype": "text/x-python",
   "name": "python",
   "nbconvert_exporter": "python",
   "pygments_lexer": "ipython3",
   "version": "3.5.4"
  }
 },
 "nbformat": 4,
 "nbformat_minor": 2
}
