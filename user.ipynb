{
 "cells": [
  {
   "cell_type": "code",
   "execution_count": 5,
   "metadata": {},
   "outputs": [
    {
     "name": "stdout",
     "output_type": "stream",
     "text": [
      "     uid  age  sex active_date         limit  time_to_11  time_to_12\n",
      "0  26308    2    1  2016-02-16  15000.000001         259         289\n",
      "1  78209    4    1  2016-02-21   5000.000000         254         284\n",
      "2  51930    4    1  2016-04-19  24999.999999         196         226\n",
      "3  10113    1    1  2016-03-12  24999.999999         234         264\n",
      "4  17067    4    1  2016-02-16  15000.000001         259         289\n"
     ]
    }
   ],
   "source": [
    "import pandas as pd\n",
    "import numpy as np\n",
    "from datetime import date\n",
    "from sklearn.ensemble import RandomForestClassifier\n",
    "from sklearn import preprocessing\n",
    "from datetime import date\n",
    "import time\n",
    "t_user  =pd.read_csv('D:\\研究生\\Chaos\\JD\\信贷需求/t_user.csv')\n",
    "#距离激活贷款时间\n",
    "def original_data(x):\n",
    "    try:\n",
    "        result = 5**x-1\n",
    "    except IOError:\n",
    "        print(x)\n",
    "    return result\n",
    "def distance_11(x):\n",
    "    YMD = x.split('-')\n",
    "    timeArray1 = date(int(YMD[0]),int(YMD[1]),int(YMD[2]))\n",
    "    timeArray2 = date(2016,11,1)\n",
    "    result = timeArray2 - timeArray1\n",
    "    return result.days\n",
    "def distance_12(x):\n",
    "    YMD = x.split('-')\n",
    "    timeArray1 = date(int(YMD[0]),int(YMD[1]),int(YMD[2]))\n",
    "    timeArray2 = date(2016,12,1)\n",
    "    result = timeArray2 - timeArray1\n",
    "    return result.days\n",
    "t_user['limit'] = t_user.limit.apply(original_data)\n",
    "t_user['time_to_11'] =  t_user.active_date.apply(distance_11)\n",
    "t_user['time_to_12'] =  t_user.active_date.apply(distance_12)\n",
    "\n",
    "\n",
    "#将年龄进行分组\n",
    "def cut_age(x):\n",
    "    if x<=24:\n",
    "        result = 0\n",
    "    else:\n",
    "        if x<=28:\n",
    "            result=1\n",
    "        else:\n",
    "            if x<32:\n",
    "                result =2\n",
    "            else:\n",
    "                if x<41:\n",
    "                    result =4\n",
    "                else:\n",
    "                    if x<45:\n",
    "                        result = 5\n",
    "                    else:\n",
    "                        result = 6\n",
    "\n",
    "    return result\n",
    "    \n",
    "t_user['age']=t_user.age.apply(cut_age)\n",
    "t_user.to_csv('D:/研究生/Chaos/JD/信贷需求/feature/user_active.csv',index=None) \n",
    "print(t_user.head(5))"
   ]
  },
  {
   "cell_type": "code",
   "execution_count": null,
   "metadata": {},
   "outputs": [],
   "source": [
    "\n"
   ]
  },
  {
   "cell_type": "code",
   "execution_count": null,
   "metadata": {},
   "outputs": [],
   "source": []
  }
 ],
 "metadata": {
  "kernelspec": {
   "display_name": "Python 3",
   "language": "python",
   "name": "python3"
  },
  "language_info": {
   "codemirror_mode": {
    "name": "ipython",
    "version": 3
   },
   "file_extension": ".py",
   "mimetype": "text/x-python",
   "name": "python",
   "nbconvert_exporter": "python",
   "pygments_lexer": "ipython3",
   "version": "3.5.4"
  }
 },
 "nbformat": 4,
 "nbformat_minor": 2
}
